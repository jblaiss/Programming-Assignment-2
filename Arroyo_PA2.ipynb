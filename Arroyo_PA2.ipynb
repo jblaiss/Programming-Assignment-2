{
 "cells": [
  {
   "cell_type": "markdown",
   "id": "e3fea1a5-bba1-4813-8d19-54e78da5d391",
   "metadata": {},
   "source": [
    "Problem Assignment 2"
   ]
  },
  {
   "cell_type": "markdown",
   "id": "6dc1e80a-5ee4-4dd9-9828-277a39f4fa16",
   "metadata": {},
   "source": [
    "Experiment 2 - Numerical Python (Numpy)"
   ]
  },
  {
   "cell_type": "code",
   "execution_count": 56,
   "id": "304be50a-2f51-4af4-ab26-600769cfc9f9",
   "metadata": {},
   "outputs": [],
   "source": [
    "import numpy as np"
   ]
  },
  {
   "cell_type": "markdown",
   "id": "4f0c86fd-959d-4c35-8db9-3342dbeb1a48",
   "metadata": {},
   "source": [
    "NORMALIZATION PROBLEM"
   ]
  },
  {
   "cell_type": "code",
   "execution_count": 68,
   "id": "e1c0ed04-0275-4a85-abe9-321e384271ec",
   "metadata": {},
   "outputs": [
    {
     "data": {
      "text/plain": [
       "array([[0.39521526, 0.82303184, 0.40086201, 0.0735523 , 0.38965276],\n",
       "       [0.6666213 , 0.16485601, 0.11777189, 0.42659789, 0.23687161],\n",
       "       [0.06894796, 0.77942194, 0.97830781, 0.37176023, 0.90330594],\n",
       "       [0.11626867, 0.14840782, 0.34166952, 0.75574185, 0.60497596],\n",
       "       [0.97285133, 0.15706332, 0.92961293, 0.77281409, 0.14372392]])"
      ]
     },
     "execution_count": 68,
     "metadata": {},
     "output_type": "execute_result"
    }
   ],
   "source": [
    "X = np.random.random((5,5)) #this creates a 5x5 random array\n",
    "X"
   ]
  },
  {
   "cell_type": "code",
   "execution_count": 69,
   "id": "07883257-5f6c-48f5-b358-1c136c78a197",
   "metadata": {},
   "outputs": [
    {
     "data": {
      "text/plain": [
       "array([[-0.23866889,  1.13408127, -0.22054997, -1.2708002 , -0.25651749],\n",
       "       [ 0.63220124, -0.97783073, -1.12891124, -0.13797035, -0.74675176],\n",
       "       [-1.2855743 ,  0.99414864,  1.63232074, -0.31392988,  1.3916596 ],\n",
       "       [-1.13373467, -1.03060862, -0.41048301,  0.9181655 ,  0.43439766],\n",
       "       [ 1.61481234, -1.00283542,  1.47607179,  0.97294579, -1.04563802]])"
      ]
     },
     "execution_count": 69,
     "metadata": {},
     "output_type": "execute_result"
    }
   ],
   "source": [
    "X = (X - X.mean()) / X.std() #will normalize the array and store it in variable X\n",
    "X"
   ]
  },
  {
   "cell_type": "code",
   "execution_count": 73,
   "id": "c2a49670-ff2c-41d3-98f2-11c3cf965f98",
   "metadata": {},
   "outputs": [],
   "source": [
    "np.save(\"X_normalized.npy\", X) #the normalized array will be save as X_normalized.npy"
   ]
  },
  {
   "cell_type": "code",
   "execution_count": 75,
   "id": "2a697ca5-501b-4611-82b8-289c6bb0ed7f",
   "metadata": {},
   "outputs": [
    {
     "name": "stdout",
     "output_type": "stream",
     "text": [
      "[[-0.23866889  1.13408127 -0.22054997 -1.2708002  -0.25651749]\n",
      " [ 0.63220124 -0.97783073 -1.12891124 -0.13797035 -0.74675176]\n",
      " [-1.2855743   0.99414864  1.63232074 -0.31392988  1.3916596 ]\n",
      " [-1.13373467 -1.03060862 -0.41048301  0.9181655   0.43439766]\n",
      " [ 1.61481234 -1.00283542  1.47607179  0.97294579 -1.04563802]]\n"
     ]
    }
   ],
   "source": [
    " #for double checking\n",
    "print(result)"
   ]
  },
  {
   "cell_type": "markdown",
   "id": "eb93a542-56b1-4949-baa1-deb296e18b4e",
   "metadata": {},
   "source": [
    "DIVISIBLE BY 3 PROBLEM"
   ]
  },
  {
   "cell_type": "code",
   "execution_count": 61,
   "id": "5a1764e5-b307-4b23-808e-fe93f9634881",
   "metadata": {},
   "outputs": [
    {
     "data": {
      "text/plain": [
       "array([    1,     4,     9,    16,    25,    36,    49,    64,    81,\n",
       "         100,   121,   144,   169,   196,   225,   256,   289,   324,\n",
       "         361,   400,   441,   484,   529,   576,   625,   676,   729,\n",
       "         784,   841,   900,   961,  1024,  1089,  1156,  1225,  1296,\n",
       "        1369,  1444,  1521,  1600,  1681,  1764,  1849,  1936,  2025,\n",
       "        2116,  2209,  2304,  2401,  2500,  2601,  2704,  2809,  2916,\n",
       "        3025,  3136,  3249,  3364,  3481,  3600,  3721,  3844,  3969,\n",
       "        4096,  4225,  4356,  4489,  4624,  4761,  4900,  5041,  5184,\n",
       "        5329,  5476,  5625,  5776,  5929,  6084,  6241,  6400,  6561,\n",
       "        6724,  6889,  7056,  7225,  7396,  7569,  7744,  7921,  8100,\n",
       "        8281,  8464,  8649,  8836,  9025,  9216,  9409,  9604,  9801,\n",
       "       10000])"
      ]
     },
     "execution_count": 61,
     "metadata": {},
     "output_type": "execute_result"
    }
   ],
   "source": [
    "#create an array where the values ranges from 1 to 100, each value is then squared\n",
    "x = np.arange(1, 101)**2\n",
    "x"
   ]
  },
  {
   "cell_type": "code",
   "execution_count": 62,
   "id": "2eb02a5d-61cf-4812-a2c2-1474cdd74b0c",
   "metadata": {},
   "outputs": [
    {
     "name": "stdout",
     "output_type": "stream",
     "text": [
      "[[    1     4     9    16    25    36    49    64    81   100]\n",
      " [  121   144   169   196   225   256   289   324   361   400]\n",
      " [  441   484   529   576   625   676   729   784   841   900]\n",
      " [  961  1024  1089  1156  1225  1296  1369  1444  1521  1600]\n",
      " [ 1681  1764  1849  1936  2025  2116  2209  2304  2401  2500]\n",
      " [ 2601  2704  2809  2916  3025  3136  3249  3364  3481  3600]\n",
      " [ 3721  3844  3969  4096  4225  4356  4489  4624  4761  4900]\n",
      " [ 5041  5184  5329  5476  5625  5776  5929  6084  6241  6400]\n",
      " [ 6561  6724  6889  7056  7225  7396  7569  7744  7921  8100]\n",
      " [ 8281  8464  8649  8836  9025  9216  9409  9604  9801 10000]]\n"
     ]
    }
   ],
   "source": [
    "x = x.reshape(10,10)\n",
    "print(x)"
   ]
  },
  {
   "cell_type": "code",
   "execution_count": 63,
   "id": "02735ce3-ab66-4db5-bb4e-ba9648bae9bb",
   "metadata": {},
   "outputs": [
    {
     "data": {
      "text/plain": [
       "array([   9,   36,   81,  144,  225,  324,  441,  576,  729,  900, 1089,\n",
       "       1296, 1521, 1764, 2025, 2304, 2601, 2916, 3249, 3600, 3969, 4356,\n",
       "       4761, 5184, 5625, 6084, 6561, 7056, 7569, 8100, 8649, 9216, 9801])"
      ]
     },
     "execution_count": 63,
     "metadata": {},
     "output_type": "execute_result"
    }
   ],
   "source": [
    "data = x[x % 3 == 0]\n",
    "data"
   ]
  },
  {
   "cell_type": "code",
   "execution_count": 64,
   "id": "e6385809-fd0a-4ca5-a494-360090203aea",
   "metadata": {},
   "outputs": [],
   "source": [
    "np.save(\"div_by_3.npy\", data)"
   ]
  },
  {
   "cell_type": "code",
   "execution_count": 65,
   "id": "9f11f9e7-2502-4ee8-b7b7-e926b087e5ad",
   "metadata": {},
   "outputs": [
    {
     "name": "stdout",
     "output_type": "stream",
     "text": [
      "[   9   36   81  144  225  324  441  576  729  900 1089 1296 1521 1764\n",
      " 2025 2304 2601 2916 3249 3600 3969 4356 4761 5184 5625 6084 6561 7056\n",
      " 7569 8100 8649 9216 9801]\n"
     ]
    }
   ],
   "source": [
    "result = np.load(\"div_by_3.npy\")\n",
    "print(result)"
   ]
  }
 ],
 "metadata": {
  "kernelspec": {
   "display_name": "Python 3 (ipykernel)",
   "language": "python",
   "name": "python3"
  },
  "language_info": {
   "codemirror_mode": {
    "name": "ipython",
    "version": 3
   },
   "file_extension": ".py",
   "mimetype": "text/x-python",
   "name": "python",
   "nbconvert_exporter": "python",
   "pygments_lexer": "ipython3",
   "version": "3.13.5"
  }
 },
 "nbformat": 4,
 "nbformat_minor": 5
}
